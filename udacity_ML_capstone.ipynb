{
  "nbformat": 4,
  "nbformat_minor": 0,
  "metadata": {
    "colab": {
      "name": "udacity_ML_capstone.ipynb",
      "version": "0.3.2",
      "provenance": [],
      "collapsed_sections": []
    },
    "kernelspec": {
      "name": "python3",
      "display_name": "Python 3"
    },
    "accelerator": "GPU"
  },
  "cells": [
    {
      "cell_type": "markdown",
      "metadata": {
        "id": "rYSCvBM7Y1Z2",
        "colab_type": "text"
      },
      "source": [
        "# Udacity Machine Learning Capstone"
      ]
    },
    {
      "cell_type": "markdown",
      "metadata": {
        "id": "s9XLuuPucesI",
        "colab_type": "text"
      },
      "source": [
        "## Requirements"
      ]
    },
    {
      "cell_type": "code",
      "metadata": {
        "id": "1W31dgSpYyHZ",
        "colab_type": "code",
        "outputId": "fd58fe5c-ed5f-4eb6-be3f-984412cd4297",
        "colab": {
          "base_uri": "https://localhost:8080/",
          "height": 384
        }
      },
      "source": [
        "!pip install keras-bert\n",
        "\n",
        "import os\n",
        "import subprocess\n",
        "\n",
        "cmd_download = \"wget -q https://storage.googleapis.com/bert_models/2018_10_18/uncased_L-12_H-768_A-12.zip\"\n",
        "cmd_unzip = \"unzip -o uncased_L-12_H-768_A-12.zip\"\n",
        "if not os.path.isdir('uncased_L-12_H-768_A-12'):\n",
        "    for cmd in [cmd_download, cmd_unzip]:\n",
        "        subprocess.call(cmd.split())\n",
        "\n",
        "!ls -a"
      ],
      "execution_count": 0,
      "outputs": [
        {
          "output_type": "stream",
          "text": [
            "Requirement already satisfied: keras-bert in /usr/local/lib/python3.6/dist-packages (0.71.0)\n",
            "Requirement already satisfied: keras-transformer>=0.29.0 in /usr/local/lib/python3.6/dist-packages (from keras-bert) (0.29.0)\n",
            "Requirement already satisfied: Keras in /usr/local/lib/python3.6/dist-packages (from keras-bert) (2.2.4)\n",
            "Requirement already satisfied: numpy in /usr/local/lib/python3.6/dist-packages (from keras-bert) (1.16.4)\n",
            "Requirement already satisfied: keras-embed-sim>=0.7.0 in /usr/local/lib/python3.6/dist-packages (from keras-transformer>=0.29.0->keras-bert) (0.7.0)\n",
            "Requirement already satisfied: keras-pos-embd>=0.10.0 in /usr/local/lib/python3.6/dist-packages (from keras-transformer>=0.29.0->keras-bert) (0.11.0)\n",
            "Requirement already satisfied: keras-position-wise-feed-forward>=0.5.0 in /usr/local/lib/python3.6/dist-packages (from keras-transformer>=0.29.0->keras-bert) (0.6.0)\n",
            "Requirement already satisfied: keras-layer-normalization>=0.12.0 in /usr/local/lib/python3.6/dist-packages (from keras-transformer>=0.29.0->keras-bert) (0.12.0)\n",
            "Requirement already satisfied: keras-multi-head>=0.20.0 in /usr/local/lib/python3.6/dist-packages (from keras-transformer>=0.29.0->keras-bert) (0.20.0)\n",
            "Requirement already satisfied: pyyaml in /usr/local/lib/python3.6/dist-packages (from Keras->keras-bert) (3.13)\n",
            "Requirement already satisfied: six>=1.9.0 in /usr/local/lib/python3.6/dist-packages (from Keras->keras-bert) (1.12.0)\n",
            "Requirement already satisfied: scipy>=0.14 in /usr/local/lib/python3.6/dist-packages (from Keras->keras-bert) (1.3.0)\n",
            "Requirement already satisfied: keras-preprocessing>=1.0.5 in /usr/local/lib/python3.6/dist-packages (from Keras->keras-bert) (1.1.0)\n",
            "Requirement already satisfied: h5py in /usr/local/lib/python3.6/dist-packages (from Keras->keras-bert) (2.8.0)\n",
            "Requirement already satisfied: keras-applications>=1.0.6 in /usr/local/lib/python3.6/dist-packages (from Keras->keras-bert) (1.0.8)\n",
            "Requirement already satisfied: keras-self-attention==0.41.0 in /usr/local/lib/python3.6/dist-packages (from keras-multi-head>=0.20.0->keras-transformer>=0.29.0->keras-bert) (0.41.0)\n",
            ".\t\t   sample_data\t  uncased_L-12_H-768_A-12\n",
            "..\t\t   SVM_preds.tsv  uncased_L-12_H-768_A-12.zip\n",
            "accuracy_drug.png  test.tsv\t  validation.tsv\n",
            ".config\t\t   train.tsv\n"
          ],
          "name": "stdout"
        }
      ]
    },
    {
      "cell_type": "markdown",
      "metadata": {
        "id": "B3Z7KYr5ckeW",
        "colab_type": "text"
      },
      "source": [
        "## Data"
      ]
    },
    {
      "cell_type": "markdown",
      "metadata": {
        "id": "3SjQ7kGQdcCn",
        "colab_type": "text"
      },
      "source": [
        "Paths of the pretrained BERT model"
      ]
    },
    {
      "cell_type": "code",
      "metadata": {
        "id": "k7WfgPT3w_jQ",
        "colab_type": "code",
        "colab": {}
      },
      "source": [
        "pretrained_path = 'uncased_L-12_H-768_A-12'\n",
        "config_path = os.path.join(pretrained_path, 'bert_config.json')\n",
        "checkpoint_path = os.path.join(pretrained_path, 'bert_model.ckpt')\n",
        "vocab_path = os.path.join(pretrained_path, 'vocab.txt')"
      ],
      "execution_count": 0,
      "outputs": []
    },
    {
      "cell_type": "markdown",
      "metadata": {
        "id": "4X4N-O6dcqJK",
        "colab_type": "text"
      },
      "source": [
        "Upload the data if the notebook is running on Google Colab.\n",
        "\n",
        "* train.tsv\n",
        "* validation.tsv\n",
        "* test.tsv\n",
        "* SVM_preds.tsv"
      ]
    },
    {
      "cell_type": "code",
      "metadata": {
        "id": "UZumtCmPBLQm",
        "colab_type": "code",
        "outputId": "08f11273-4672-4faa-bf75-3ec000b64fe3",
        "colab": {
          "base_uri": "https://localhost:8080/",
          "height": 86
        }
      },
      "source": [
        "# from google.colab import files\n",
        "\n",
        "# if not all(os.path.isfile(div + '.tsv')\n",
        "#            for div in ['train', 'validation', 'test', 'SVM_preds']):\n",
        "#     uploaded = files.upload()\n",
        "    \n",
        "!ls -a"
      ],
      "execution_count": 0,
      "outputs": [
        {
          "output_type": "stream",
          "text": [
            ".\t\t   sample_data\t  uncased_L-12_H-768_A-12\n",
            "..\t\t   SVM_preds.tsv  uncased_L-12_H-768_A-12.zip\n",
            "accuracy_drug.png  test.tsv\t  validation.tsv\n",
            ".config\t\t   train.tsv\n"
          ],
          "name": "stdout"
        }
      ]
    },
    {
      "cell_type": "markdown",
      "metadata": {
        "id": "cHeEHK38dLL7",
        "colab_type": "text"
      },
      "source": [
        "Load data as data frames"
      ]
    },
    {
      "cell_type": "code",
      "metadata": {
        "id": "oDK6QiVcPBta",
        "colab_type": "code",
        "outputId": "b4c3002a-9c0f-4499-fdb7-904780807a9a",
        "colab": {
          "base_uri": "https://localhost:8080/",
          "height": 206
        }
      },
      "source": [
        "import re\n",
        "import pandas as pd\n",
        "\n",
        "COLUMNS = ['tweet_id', 'user_id', 'drug', 'label', 'text']\n",
        "USER_NAME = ' _USERNAME_ '\n",
        "\n",
        "def preprocess_text(text):\n",
        "    text = text.strip().lower();\n",
        "    # Mask user names\n",
        "    text = re.sub(r'(?<!\\w)@[a-z0-9_]+', USER_NAME, text)\n",
        "    return text\n",
        "\n",
        "def load_data(file_name):\n",
        "    df = pd.read_csv(file_name,\n",
        "                     delimiter='\\t',\n",
        "                     header=None,\n",
        "                     names=COLUMNS,\n",
        "                     encoding='utf-8',\n",
        "                     dtype=str)\n",
        "    df['text'] = df['text'].apply(preprocess_text)\n",
        "    df['label'] = df['label'].apply(lambda x: 'acmu'.index(x))\n",
        "    return df\n",
        "\n",
        "df_train = load_data('train.tsv')\n",
        "df_validation = load_data('validation.tsv')\n",
        "df_test = load_data('test.tsv')\n",
        "df_train.head()"
      ],
      "execution_count": 0,
      "outputs": [
        {
          "output_type": "execute_result",
          "data": {
            "text/html": [
              "<div>\n",
              "<style scoped>\n",
              "    .dataframe tbody tr th:only-of-type {\n",
              "        vertical-align: middle;\n",
              "    }\n",
              "\n",
              "    .dataframe tbody tr th {\n",
              "        vertical-align: top;\n",
              "    }\n",
              "\n",
              "    .dataframe thead th {\n",
              "        text-align: right;\n",
              "    }\n",
              "</style>\n",
              "<table border=\"1\" class=\"dataframe\">\n",
              "  <thead>\n",
              "    <tr style=\"text-align: right;\">\n",
              "      <th></th>\n",
              "      <th>tweet_id</th>\n",
              "      <th>user_id</th>\n",
              "      <th>drug</th>\n",
              "      <th>label</th>\n",
              "      <th>text</th>\n",
              "    </tr>\n",
              "  </thead>\n",
              "  <tbody>\n",
              "    <tr>\n",
              "      <th>0</th>\n",
              "      <td>463042844853567488</td>\n",
              "      <td>835854780</td>\n",
              "      <td>adderall</td>\n",
              "      <td>2</td>\n",
              "      <td>and on the third day adderall fell from heaven...</td>\n",
              "    </tr>\n",
              "    <tr>\n",
              "      <th>1</th>\n",
              "      <td>867553609990508544</td>\n",
              "      <td>774643936245809152</td>\n",
              "      <td>valium</td>\n",
              "      <td>2</td>\n",
              "      <td>_USERNAME_  ben carson is a fool . he always ...</td>\n",
              "    </tr>\n",
              "    <tr>\n",
              "      <th>2</th>\n",
              "      <td>964871777972342785</td>\n",
              "      <td>229518077</td>\n",
              "      <td>xanax</td>\n",
              "      <td>2</td>\n",
              "      <td>_USERNAME_  do they have a physician? many wi...</td>\n",
              "    </tr>\n",
              "    <tr>\n",
              "      <th>3</th>\n",
              "      <td>991607217764872192</td>\n",
              "      <td>2706714718</td>\n",
              "      <td>tramadol</td>\n",
              "      <td>1</td>\n",
              "      <td>_USERNAME_   _USERNAME_   _USERNAME_  can you...</td>\n",
              "    </tr>\n",
              "    <tr>\n",
              "      <th>4</th>\n",
              "      <td>1008921524210950145</td>\n",
              "      <td>1799069095</td>\n",
              "      <td>adderall</td>\n",
              "      <td>0</td>\n",
              "      <td>🌚🌚🌚 be real and sell me some adderall thx for ...</td>\n",
              "    </tr>\n",
              "  </tbody>\n",
              "</table>\n",
              "</div>"
            ],
            "text/plain": [
              "              tweet_id  ...                                               text\n",
              "0   463042844853567488  ...  and on the third day adderall fell from heaven...\n",
              "1   867553609990508544  ...   _USERNAME_  ben carson is a fool . he always ...\n",
              "2   964871777972342785  ...   _USERNAME_  do they have a physician? many wi...\n",
              "3   991607217764872192  ...   _USERNAME_   _USERNAME_   _USERNAME_  can you...\n",
              "4  1008921524210950145  ...  🌚🌚🌚 be real and sell me some adderall thx for ...\n",
              "\n",
              "[5 rows x 5 columns]"
            ]
          },
          "metadata": {
            "tags": []
          },
          "execution_count": 4
        }
      ]
    },
    {
      "cell_type": "markdown",
      "metadata": {
        "id": "l9GjaRnYDKSJ",
        "colab_type": "text"
      },
      "source": [
        "Description of text lengths"
      ]
    },
    {
      "cell_type": "code",
      "metadata": {
        "id": "aJx7b1x_DQAg",
        "colab_type": "code",
        "outputId": "99df8070-97b2-4c1f-8902-86cdd4ec50de",
        "colab": {
          "base_uri": "https://localhost:8080/",
          "height": 52
        }
      },
      "source": [
        "import numpy as np\n",
        "from scipy.stats import describe\n",
        "\n",
        "lengths = [\n",
        "    len(re.sub(r'\\W+', ' ', text).split())\n",
        "    for text in df_train['text']\n",
        "]\n",
        "print(describe(lengths))\n",
        "print('median length:', np.median(lengths))"
      ],
      "execution_count": 0,
      "outputs": [
        {
          "output_type": "stream",
          "text": [
            "DescribeResult(nobs=11472, minmax=(1, 109), mean=18.73274058577406, variance=149.79780164205243, skewness=1.828474250439206, kurtosis=5.474870858640367)\n",
            "median length: 16.0\n"
          ],
          "name": "stdout"
        }
      ]
    },
    {
      "cell_type": "markdown",
      "metadata": {
        "id": "OvHvTQCVdnAU",
        "colab_type": "text"
      },
      "source": [
        "### Descriptive statistics"
      ]
    },
    {
      "cell_type": "code",
      "metadata": {
        "id": "TpI9ciMDQUwV",
        "colab_type": "code",
        "outputId": "d9c194bb-6e4e-46f5-9377-219cb4801fc8",
        "colab": {
          "base_uri": "https://localhost:8080/",
          "height": 104
        }
      },
      "source": [
        "from tabulate import tabulate\n",
        "\n",
        "divs_df = [df_train, df_validation, df_test]\n",
        "\n",
        "header = ['Division', 'a', 'c', 'm', 'u', 'Total']\n",
        "counts = [\n",
        "    [sum(df['label'] == l) for l in range(4)]\n",
        "    for df in divs_df\n",
        "]\n",
        "table = [\n",
        "    [div] + cnts + [df.shape[0]]\n",
        "    for div, cnts, df in zip(\n",
        "        ['Train', 'Validation', 'Test'],\n",
        "        counts,\n",
        "        divs_df\n",
        "    )\n",
        "]\n",
        "\n",
        "print(tabulate(table, headers=header))"
      ],
      "execution_count": 0,
      "outputs": [
        {
          "output_type": "stream",
          "text": [
            "Division       a     c     m    u    Total\n",
            "----------  ----  ----  ----  ---  -------\n",
            "Train       1869  3214  5914  475    11472\n",
            "Validation   260   449   874   53     1636\n",
            "Test         503   919  1722  127     3271\n"
          ],
          "name": "stdout"
        }
      ]
    },
    {
      "cell_type": "markdown",
      "metadata": {
        "id": "9MnlJewwtl3_",
        "colab_type": "text"
      },
      "source": [
        "Plot of the counts"
      ]
    },
    {
      "cell_type": "code",
      "metadata": {
        "id": "eYtcMIuGttAs",
        "colab_type": "code",
        "outputId": "56fe3d6a-f755-4a1f-d1e9-cdeef9a197e5",
        "colab": {
          "base_uri": "https://localhost:8080/",
          "height": 307
        }
      },
      "source": [
        "import matplotlib.pyplot as plt\n",
        "\n",
        "plt.rcParams.update({'font.size': 7.5})\n",
        "\n",
        "ann_labels = list('acmu')\n",
        "proportion = [\n",
        "    [cnt / df.shape[0] for cnt in div]\n",
        "    for div, df in zip(counts, divs_df)\n",
        "]\n",
        "\n",
        "width = 0.34\n",
        "x = np.arange(len(ann_labels)) * 1.5\n",
        "x_cur = x - width\n",
        "fig, ax = plt.subplots()\n",
        "\n",
        "for prop, group in zip(proportion, ['Train', 'Validation', 'Test']):\n",
        "    rects = ax.bar(x_cur, prop, width, label=group)\n",
        "    for p, r in zip(prop, rects):\n",
        "        ax.annotate('{0:.2f}'.format(p),\n",
        "                    xy=(r.get_x(), r.get_height() + 0.01),)\n",
        "    x_cur += width\n",
        "\n",
        "ax.set_ylim((0.0, 0.6))\n",
        "ax.set_title('Proportion by group and class')\n",
        "ax.set_xlabel('Class')\n",
        "ax.set_ylabel('Proportion')\n",
        "ax.set_xticks(x)\n",
        "ax.set_xticklabels(ann_labels)\n",
        "ax.legend()\n",
        "\n",
        "            \n",
        "# # Download the plot from Google Colab.\n",
        "# # May randomly throw an error if run in Firefox.\n",
        "# plt.savefig('proportion.png', format='png', dpi=300)\n",
        "# files.download('proportion.png')\n"
      ],
      "execution_count": 0,
      "outputs": [
        {
          "output_type": "execute_result",
          "data": {
            "text/plain": [
              "<matplotlib.legend.Legend at 0x7fd5c9a8ccf8>"
            ]
          },
          "metadata": {
            "tags": []
          },
          "execution_count": 7
        },
        {
          "output_type": "display_data",
          "data": {
            "image/png": "[encoded data removed]",
            "text/plain": [
              "<Figure size 432x288 with 1 Axes>"
            ]
          },
          "metadata": {
            "tags": []
          }
        }
      ]
    },
    {
      "cell_type": "markdown",
      "metadata": {
        "id": "GETjKeC-Wiks",
        "colab_type": "text"
      },
      "source": [
        "## Implementing the classifier"
      ]
    },
    {
      "cell_type": "code",
      "metadata": {
        "id": "f1er7ideY9XY",
        "colab_type": "code",
        "outputId": "ada589f4-4181-4981-bb29-875073b6d267",
        "colab": {
          "base_uri": "https://localhost:8080/",
          "height": 34
        }
      },
      "source": [
        "import keras\n",
        "from keras_bert import get_base_dict, load_trained_model_from_checkpoint"
      ],
      "execution_count": 0,
      "outputs": [
        {
          "output_type": "stream",
          "text": [
            "Using TensorFlow backend.\n"
          ],
          "name": "stderr"
        }
      ]
    },
    {
      "cell_type": "markdown",
      "metadata": {
        "id": "awK38H887vyZ",
        "colab_type": "text"
      },
      "source": [
        "Load the vocabulary of the pretrained BERT model"
      ]
    },
    {
      "cell_type": "code",
      "metadata": {
        "colab_type": "code",
        "id": "dPJjaqj0NQ3L",
        "colab": {}
      },
      "source": [
        "token_dict = {}\n",
        "with open(vocab_path, 'r', encoding='utf8') as reader:\n",
        "    for line in reader:\n",
        "        token = line.strip()\n",
        "        token_dict[token] = len(token_dict)\n",
        "\n",
        "token_list = list(token_dict.keys())"
      ],
      "execution_count": 0,
      "outputs": []
    },
    {
      "cell_type": "markdown",
      "metadata": {
        "id": "6NQr0hGS8Y-K",
        "colab_type": "text"
      },
      "source": [
        "Load the pretrained model"
      ]
    },
    {
      "cell_type": "code",
      "metadata": {
        "id": "zKMRZq_9NvYM",
        "colab_type": "code",
        "outputId": "3c0d2306-d9ff-4439-c3ae-68de8e29b784",
        "colab": {
          "base_uri": "https://localhost:8080/",
          "height": 280
        }
      },
      "source": [
        "SEQ_LEN = 100\n",
        "\n",
        "model = load_trained_model_from_checkpoint(\n",
        "    config_path,\n",
        "    checkpoint_path,\n",
        "    training=True,\n",
        "    trainable=True,\n",
        "    seq_len=SEQ_LEN,\n",
        ")"
      ],
      "execution_count": 0,
      "outputs": [
        {
          "output_type": "stream",
          "text": [
            "WARNING: Logging before flag parsing goes to stderr.\n",
            "W0806 19:12:01.612135 140556937099136 deprecation_wrapper.py:119] From /usr/local/lib/python3.6/dist-packages/keras/backend/tensorflow_backend.py:517: The name tf.placeholder is deprecated. Please use tf.compat.v1.placeholder instead.\n",
            "\n",
            "W0806 19:12:01.637861 140556937099136 deprecation_wrapper.py:119] From /usr/local/lib/python3.6/dist-packages/keras/backend/tensorflow_backend.py:4138: The name tf.random_uniform is deprecated. Please use tf.random.uniform instead.\n",
            "\n",
            "W0806 19:12:01.698252 140556937099136 deprecation_wrapper.py:119] From /usr/local/lib/python3.6/dist-packages/keras/backend/tensorflow_backend.py:131: The name tf.get_default_graph is deprecated. Please use tf.compat.v1.get_default_graph instead.\n",
            "\n",
            "W0806 19:12:01.699400 140556937099136 deprecation_wrapper.py:119] From /usr/local/lib/python3.6/dist-packages/keras/backend/tensorflow_backend.py:133: The name tf.placeholder_with_default is deprecated. Please use tf.compat.v1.placeholder_with_default instead.\n",
            "\n",
            "W0806 19:12:01.713504 140556937099136 deprecation.py:506] From /usr/local/lib/python3.6/dist-packages/keras/backend/tensorflow_backend.py:3445: calling dropout (from tensorflow.python.ops.nn_ops) with keep_prob is deprecated and will be removed in a future version.\n",
            "Instructions for updating:\n",
            "Please use `rate` instead of `keep_prob`. Rate should be set to `rate = 1 - keep_prob`.\n",
            "W0806 19:12:01.751854 140556937099136 deprecation_wrapper.py:119] From /usr/local/lib/python3.6/dist-packages/keras/backend/tensorflow_backend.py:4185: The name tf.truncated_normal is deprecated. Please use tf.random.truncated_normal instead.\n",
            "\n"
          ],
          "name": "stderr"
        }
      ]
    },
    {
      "cell_type": "markdown",
      "metadata": {
        "id": "S5Mn2bqq71gC",
        "colab_type": "text"
      },
      "source": [
        "The function performing one-hot-encoding"
      ]
    },
    {
      "cell_type": "code",
      "metadata": {
        "id": "iDFCKPwXmyiR",
        "colab_type": "code",
        "colab": {}
      },
      "source": [
        "def to_one_hot(input_labels, range_labels=4):\n",
        "    num_rows = len(input_labels)\n",
        "    ohe = np.zeros((num_rows, range_labels))\n",
        "    ohe[np.arange(num_rows), input_labels] = 1\n",
        "    return ohe"
      ],
      "execution_count": 0,
      "outputs": []
    },
    {
      "cell_type": "code",
      "metadata": {
        "id": "z9CexpWn5aGV",
        "colab_type": "code",
        "colab": {}
      },
      "source": [
        "from keras_bert import Tokenizer\n",
        "\n",
        "tokenizer = Tokenizer(token_dict)\n",
        "BATCH_SIZE = 32"
      ],
      "execution_count": 0,
      "outputs": []
    },
    {
      "cell_type": "markdown",
      "metadata": {
        "id": "SgQJxJTglHNy",
        "colab_type": "text"
      },
      "source": [
        "A small perturbation in training data for testing the robustness of the model. 10% is removed"
      ]
    },
    {
      "cell_type": "code",
      "metadata": {
        "id": "eE9VMqIslEWk",
        "colab_type": "code",
        "colab": {}
      },
      "source": [
        "# df_train = df_train.sample(frac=0.9,\n",
        "#                            replace=False,\n",
        "#                            random_state=42)"
      ],
      "execution_count": 0,
      "outputs": []
    },
    {
      "cell_type": "markdown",
      "metadata": {
        "id": "rYGh-rT18BNM",
        "colab_type": "text"
      },
      "source": [
        "Prepare training, validation and testing data."
      ]
    },
    {
      "cell_type": "code",
      "metadata": {
        "id": "XvsXi1lQ6gVt",
        "colab_type": "code",
        "colab": {}
      },
      "source": [
        "def gen_clf_data(df):\n",
        "    indices = []\n",
        "    for text in df['text']:\n",
        "        ids, _ = tokenizer.encode(text, max_len=SEQ_LEN)\n",
        "        indices.append(ids)\n",
        "    indices = np.array(indices)\n",
        "    return [indices, np.zeros_like(indices)], to_one_hot(df['label'])\n",
        "\n",
        "train_x, train_y = gen_clf_data(df_train)\n",
        "validation_x, validation_y = gen_clf_data(df_validation)\n",
        "test_x, test_y = gen_clf_data(df_test)"
      ],
      "execution_count": 0,
      "outputs": []
    },
    {
      "cell_type": "code",
      "metadata": {
        "id": "NzRX0g0D8S7m",
        "colab_type": "code",
        "outputId": "7f3df334-2ce1-4b0b-e5b4-9d50270ee343",
        "colab": {
          "base_uri": "https://localhost:8080/",
          "height": 72
        }
      },
      "source": [
        "from keras import layers, regularizers\n",
        "from keras_bert import AdamWarmup, calc_train_steps\n",
        "\n",
        "inputs = model.inputs[:2]\n",
        "dense = model.get_layer('NSP-Dense').output\n",
        "# dense = layers.Lambda(lambda x: keras.backend.expand_dims(x, -1))(dense)\n",
        "# dense = layers.Conv1D(16, 5, activation='relu')(dense)\n",
        "# dense = layers.MaxPooling1D(pool_size=4)(dense)\n",
        "# dense = layers.Flatten()(dense)\n",
        "# print(dense.shape)\n",
        "# dense = layers.Dense(units=32,\n",
        "#                      activation='relu',\n",
        "#                      kernel_regularizer=regularizers.l2(0.003),\n",
        "#                      activity_regularizer=regularizers.l1(0.005))(dense)\n",
        "# dense = layers.BatchNormalization()(dense)\n",
        "dense = layers.Dropout(0.1)(dense)\n",
        "outputs = layers.Dense(units=4, activation='softmax')(dense)\n",
        "\n",
        "EPOCHS = 3\n",
        "\n",
        "decay_steps, warmup_steps = calc_train_steps(\n",
        "    train_y.shape[0],\n",
        "    batch_size=BATCH_SIZE,\n",
        "    epochs=EPOCHS,\n",
        ")\n",
        "\n",
        "clf = keras.models.Model(inputs, outputs)\n",
        "\n",
        "clf.compile(AdamWarmup(decay_steps=decay_steps, warmup_steps=warmup_steps, lr=1e-4),\n",
        "            'categorical_crossentropy',\n",
        "            metrics=['accuracy'])\n",
        "\n",
        "# clf.summary()"
      ],
      "execution_count": 0,
      "outputs": [
        {
          "output_type": "stream",
          "text": [
            "W0806 19:12:27.996558 140556937099136 deprecation_wrapper.py:119] From /usr/local/lib/python3.6/dist-packages/keras/optimizers.py:790: The name tf.train.Optimizer is deprecated. Please use tf.compat.v1.train.Optimizer instead.\n",
            "\n"
          ],
          "name": "stderr"
        }
      ]
    },
    {
      "cell_type": "code",
      "metadata": {
        "id": "ErCoyW268T4z",
        "colab_type": "code",
        "outputId": "eb9393b8-b6fb-45f8-8374-2179c1c0b5f7",
        "colab": {
          "base_uri": "https://localhost:8080/",
          "height": 211
        }
      },
      "source": [
        "history = clf.fit(train_x,\n",
        "                  train_y,\n",
        "                  epochs=EPOCHS,\n",
        "                  batch_size=BATCH_SIZE,\n",
        "                  validation_data=(validation_x, validation_y))"
      ],
      "execution_count": 0,
      "outputs": [
        {
          "output_type": "stream",
          "text": [
            "W0806 19:12:28.182914 140556937099136 deprecation.py:323] From /usr/local/lib/python3.6/dist-packages/tensorflow/python/ops/math_grad.py:1250: add_dispatch_support.<locals>.wrapper (from tensorflow.python.ops.array_ops) is deprecated and will be removed in a future version.\n",
            "Instructions for updating:\n",
            "Use tf.where in 2.0, which has the same broadcast rule as np.where\n"
          ],
          "name": "stderr"
        },
        {
          "output_type": "stream",
          "text": [
            "Train on 11472 samples, validate on 1636 samples\n",
            "Epoch 1/3\n",
            "11472/11472 [==============================] - 529s 46ms/step - loss: 0.7686 - acc: 0.6867 - val_loss: 0.5599 - val_acc: 0.7726\n",
            "Epoch 2/3\n",
            "11472/11472 [==============================] - 513s 45ms/step - loss: 0.3798 - acc: 0.8555 - val_loss: 0.5505 - val_acc: 0.7897\n",
            "Epoch 3/3\n",
            "11472/11472 [==============================] - 513s 45ms/step - loss: 0.1147 - acc: 0.9619 - val_loss: 0.7059 - val_acc: 0.7903\n"
          ],
          "name": "stdout"
        }
      ]
    },
    {
      "cell_type": "markdown",
      "metadata": {
        "id": "wyrpQTrj1nJC",
        "colab_type": "text"
      },
      "source": [
        "### Visualization of training / validation loss"
      ]
    },
    {
      "cell_type": "code",
      "metadata": {
        "id": "uN1wQHI7iUAU",
        "colab_type": "code",
        "outputId": "17298e96-bf31-4cfc-ce06-d7a7cf9ce2d0",
        "colab": {
          "base_uri": "https://localhost:8080/",
          "height": 307
        }
      },
      "source": [
        "fig, ax = plt.subplots()\n",
        "\n",
        "epoch_x = np.arange(1, 4)\n",
        "\n",
        "ax.plot(epoch_x, history.history['loss'], marker='^', label='Training')\n",
        "ax.plot(epoch_x, history.history['val_loss'], marker='.', label='Validation')\n",
        "\n",
        "ax.set_xticks(epoch_x)\n",
        "ax.set_xticklabels(epoch_x)\n",
        "ax.set_title('Training and validation loss of the initial implementation')\n",
        "ax.set_xlabel('Epoch')\n",
        "ax.set_ylabel('Loss')\n",
        "ax.legend()\n",
        "\n",
        "# plt.savefig('loss.png', format='png', dpi=300)\n",
        "# files.download('loss.png')"
      ],
      "execution_count": 0,
      "outputs": [
        {
          "output_type": "execute_result",
          "data": {
            "text/plain": [
              "<matplotlib.legend.Legend at 0x7fd549e98ef0>"
            ]
          },
          "metadata": {
            "tags": []
          },
          "execution_count": 17
        },
        {
          "output_type": "display_data",
          "data": {
            "image/png": "[encoded data removed]",
            "text/plain": [
              "<Figure size 432x288 with 1 Axes>"
            ]
          },
          "metadata": {
            "tags": []
          }
        }
      ]
    },
    {
      "cell_type": "markdown",
      "metadata": {
        "id": "MRVHDczFXTIO",
        "colab_type": "text"
      },
      "source": [
        "## Testing the trained classifier"
      ]
    },
    {
      "cell_type": "code",
      "metadata": {
        "id": "dDiodBpp9iar",
        "colab_type": "code",
        "colab": {}
      },
      "source": [
        "df_test = df_test.assign(pred=np.argmax(clf.predict(test_x), axis=1))"
      ],
      "execution_count": 0,
      "outputs": []
    },
    {
      "cell_type": "code",
      "metadata": {
        "id": "DLNV4jQNtujM",
        "colab_type": "code",
        "outputId": "43baf042-99e3-41ad-d102-249e83b03e61",
        "colab": {
          "base_uri": "https://localhost:8080/",
          "height": 104
        }
      },
      "source": [
        "from pprint import pprint\n",
        "from sklearn.metrics import accuracy_score, precision_recall_fscore_support\n",
        "\n",
        "scores_test = precision_recall_fscore_support(df_test['label'],\n",
        "                                              df_test['pred'])\n",
        "pprint(scores_test)\n",
        "print(accuracy_score(df_test['label'], df_test['pred']))"
      ],
      "execution_count": 0,
      "outputs": [
        {
          "output_type": "stream",
          "text": [
            "(array([0.608     , 0.75599583, 0.8620283 , 0.9137931 ]),\n",
            " array([0.60437376, 0.78890098, 0.84901278, 0.83464567]),\n",
            " array([0.60618146, 0.77209798, 0.85547104, 0.87242798]),\n",
            " array([ 503,  919, 1722,  127]))\n",
            "0.7939468052583308\n"
          ],
          "name": "stdout"
        }
      ]
    },
    {
      "cell_type": "markdown",
      "metadata": {
        "id": "k0ZZGbxk7dDA",
        "colab_type": "text"
      },
      "source": [
        "## Comparison with the benchmark model"
      ]
    },
    {
      "cell_type": "code",
      "metadata": {
        "id": "c1kJY97S2eN7",
        "colab_type": "code",
        "colab": {}
      },
      "source": [
        "df_benchmark = pd.read_csv('SVM_preds.tsv',\n",
        "                           sep='\\t',\n",
        "                           header=None,\n",
        "                           names=['tweet_id', 'pred'],\n",
        "                           dtype=str)\n",
        "df_benchmark['pred'] = df_benchmark['pred'].apply(lambda x: 'acmu'.index(x))"
      ],
      "execution_count": 0,
      "outputs": []
    },
    {
      "cell_type": "markdown",
      "metadata": {
        "id": "T9eUuYLM7oMf",
        "colab_type": "text"
      },
      "source": [
        "Sort the test data by tweet id, to facilitate the comparison with the benchmark model"
      ]
    },
    {
      "cell_type": "code",
      "metadata": {
        "id": "qV3HXFeZ2ft5",
        "colab_type": "code",
        "colab": {}
      },
      "source": [
        "for df in [df_test, df_benchmark]:\n",
        "    df.sort_values(by=['tweet_id'], inplace=True)\n",
        "    df.reset_index(drop=True, inplace=True)\n",
        "    \n",
        "msg = \"Non-identical list of samples\"\n",
        "assert all(df_test['tweet_id'] == df_benchmark['tweet_id']), msg"
      ],
      "execution_count": 0,
      "outputs": []
    },
    {
      "cell_type": "code",
      "metadata": {
        "id": "76HBJM9u4Zyf",
        "colab_type": "code",
        "outputId": "cf7ced3b-3f4c-4ccb-f9dc-3957461922ff",
        "colab": {
          "base_uri": "https://localhost:8080/",
          "height": 104
        }
      },
      "source": [
        "scores_benchmark = precision_recall_fscore_support(df_test['label'],\n",
        "                                                   df_benchmark['pred'])\n",
        "pprint(scores_benchmark)\n",
        "print(accuracy_score(df_test['label'], df_benchmark['pred']))"
      ],
      "execution_count": 0,
      "outputs": [
        {
          "output_type": "stream",
          "text": [
            "(array([0.46615385, 0.76560333, 0.80616246, 0.8173913 ]),\n",
            " array([0.60238569, 0.60065288, 0.83565621, 0.74015748]),\n",
            " array([0.52558543, 0.67317073, 0.82064443, 0.7768595 ]),\n",
            " array([ 503,  919, 1722,  127]))\n",
            "0.7300519718740446\n"
          ],
          "name": "stdout"
        }
      ]
    },
    {
      "cell_type": "markdown",
      "metadata": {
        "id": "3GYOAWXbaJT4",
        "colab_type": "text"
      },
      "source": [
        "### Plot of the test scores"
      ]
    },
    {
      "cell_type": "code",
      "metadata": {
        "id": "tboDoDMF8DH2",
        "colab_type": "code",
        "outputId": "7d201ce9-21a4-4314-eb8a-032a5a02bcfb",
        "colab": {
          "base_uri": "https://localhost:8080/",
          "height": 262
        }
      },
      "source": [
        "width = 0.1\n",
        "x = np.arange(len(ann_labels)) * 0.8\n",
        "fig, axs = plt.subplots(1, 3, figsize=(8, 3))\n",
        "\n",
        "score_names = ['Precision', 'Recall', 'F1']\n",
        "\n",
        "for i in range(3):\n",
        "    x_cur = x - 0.5 * width\n",
        "    for scores, group in zip([scores_benchmark[i], scores_test[i]],\n",
        "                             ['Benchmark', 'BERT']):\n",
        "        rects = axs[i].bar(x_cur, scores, width, label=group)\n",
        "        x_cur += width\n",
        "\n",
        "    axs[i].set_ylim((0.0, 1.19))\n",
        "    axs[i].set_title(score_names[i])\n",
        "    axs[i].set_xticks(x)\n",
        "    axs[i].set_xticklabels(ann_labels)\n",
        "    axs[i].legend()\n",
        "\n",
        "axs[1].set_xlabel('Class')\n",
        "axs[0].set_ylabel('Score')\n",
        "fig.suptitle('Test scores of BERT vs. Benchmark')\n",
        "\n",
        "# plt.savefig('comp_scores.png', format='png', dpi=300)\n",
        "# files.download('comp_scores.png')"
      ],
      "execution_count": 0,
      "outputs": [
        {
          "output_type": "execute_result",
          "data": {
            "text/plain": [
              "Text(0.5, 0.98, 'Test scores of BERT vs. Benchmark')"
            ]
          },
          "metadata": {
            "tags": []
          },
          "execution_count": 23
        },
        {
          "output_type": "display_data",
          "data": {
            "image/png": "[encoded data removed]",
            "text/plain": [
              "<Figure size 576x216 with 3 Axes>"
            ]
          },
          "metadata": {
            "tags": []
          }
        }
      ]
    },
    {
      "cell_type": "markdown",
      "metadata": {
        "id": "Qu_Gn3T15kg8",
        "colab_type": "text"
      },
      "source": [
        "## Significance of difference between the BERT-based model and the benchmark model"
      ]
    },
    {
      "cell_type": "markdown",
      "metadata": {
        "id": "DPAM03ID5x_o",
        "colab_type": "text"
      },
      "source": [
        "McNemar’s Test"
      ]
    },
    {
      "cell_type": "code",
      "metadata": {
        "id": "v5sWZSCjPl3w",
        "colab_type": "code",
        "outputId": "7ecab387-615e-4eb6-e27b-4b0ce9e97474",
        "colab": {
          "base_uri": "https://localhost:8080/",
          "height": 69
        }
      },
      "source": [
        "from statsmodels.stats.contingency_tables import mcnemar\n",
        "\n",
        "table = [[0, 0], [0, 0]]\n",
        "\n",
        "for i in range(df_test.shape[0]):\n",
        "    row = int(df_test['pred'][i] == df_test['label'][i])\n",
        "    column = int(df_benchmark['pred'][i] == df_test['label'][i])\n",
        "    table[row][column] += 1\n",
        "    \n",
        "pprint(table)\n",
        "print(mcnemar(table, exact=True))"
      ],
      "execution_count": 0,
      "outputs": [
        {
          "output_type": "stream",
          "text": [
            "[[430, 244], [453, 2144]]\n",
            "pvalue      2.05429675800884e-15\n",
            "statistic   244.0\n"
          ],
          "name": "stdout"
        }
      ]
    },
    {
      "cell_type": "markdown",
      "metadata": {
        "id": "oWk_klYUED3U",
        "colab_type": "text"
      },
      "source": [
        "## Free-form visualization"
      ]
    },
    {
      "cell_type": "markdown",
      "metadata": {
        "id": "i32jBfi0Eg7c",
        "colab_type": "text"
      },
      "source": [
        "Accuracy by drug (with count of mention >= 70)."
      ]
    },
    {
      "cell_type": "code",
      "metadata": {
        "id": "Y91UkBRbQB5i",
        "colab_type": "code",
        "outputId": "998c647d-f88c-41d7-9e71-43bc5d224f29",
        "colab": {
          "base_uri": "https://localhost:8080/",
          "height": 362
        }
      },
      "source": [
        "from collections import Counter\n",
        "\n",
        "cnt_by_drug = Counter(df_test['drug'])\n",
        "cnt_correct_by_drug = Counter(\n",
        "    row['drug'] for _, row in df_test.iterrows()\n",
        "    if row['pred'] == row['label']\n",
        ")\n",
        "acc_by_drug = {\n",
        "    drug: cnt_correct_by_drug[drug] / cnt_by_drug[drug]\n",
        "    for drug, n in cnt_by_drug.items() if n >= 70\n",
        "}\n",
        "\n",
        "width = 0.5\n",
        "x = np.arange(len(acc_by_drug)) * 3\n",
        "drug_labels = sorted(acc_by_drug)\n",
        "accs = [acc_by_drug[drug] for drug in drug_labels]\n",
        "fig, ax = plt.subplots(figsize=(10, 5))\n",
        "rects = ax.bar(drug_labels, accs, width=width)\n",
        "for acc, rec in zip(accs, rects):\n",
        "    ax.annotate('{0:.2f}'.format(acc),\n",
        "                xy=(rec.get_x() + 0.08, rec.get_height() + 0.01),)\n",
        "\n",
        "ax.set_xlabel('Drug name')\n",
        "ax.set_ylabel('Accuracy')\n",
        "ax.set_title('Prediction accuracy by drug')\n",
        "\n",
        "# plt.savefig('accuracy_drug.png', format='png', dpi=300)\n",
        "# files.download('accuracy_drug.png')"
      ],
      "execution_count": 0,
      "outputs": [
        {
          "output_type": "execute_result",
          "data": {
            "text/plain": [
              "Text(0.5, 1.0, 'Prediction accuracy by drug')"
            ]
          },
          "metadata": {
            "tags": []
          },
          "execution_count": 25
        },
        {
          "output_type": "display_data",
          "data": {
            "image/png": "[encoded data removed]",
            "text/plain": [
              "<Figure size 720x360 with 1 Axes>"
            ]
          },
          "metadata": {
            "tags": []
          }
        }
      ]
    },
    {
      "cell_type": "code",
      "metadata": {
        "id": "jx35vOiRBaRS",
        "colab_type": "code",
        "colab": {}
      },
      "source": [
        ""
      ],
      "execution_count": 0,
      "outputs": []
    }
  ]
}